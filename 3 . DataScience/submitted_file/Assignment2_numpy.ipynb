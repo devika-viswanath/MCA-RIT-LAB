{
 "cells": [
  {
   "cell_type": "code",
   "execution_count": 25,
   "id": "9c5ba2ba-f32b-4178-b2cc-da312d3c9dd6",
   "metadata": {},
   "outputs": [
    {
     "name": "stdin",
     "output_type": "stream",
     "text": [
      "Enter number of rows:  2\n",
      "Enter number of columns:  2\n"
     ]
    },
    {
     "name": "stdout",
     "output_type": "stream",
     "text": [
      "Enter the elements row by row:\n"
     ]
    },
    {
     "name": "stdin",
     "output_type": "stream",
     "text": [
      "Element at row 1, column 1:  1\n",
      "Element at row 1, column 2:  2\n",
      "Element at row 2, column 1:  4\n",
      "Element at row 2, column 2:  6\n"
     ]
    },
    {
     "name": "stdout",
     "output_type": "stream",
     "text": [
      "\n",
      "The matrix U is:\n",
      "[[1. 2.]\n",
      " [4. 6.]]\n"
     ]
    }
   ],
   "source": [
    "import numpy as np\n",
    "\n",
    "# Step 1: Take input for number of rows and columns\n",
    "m = int(input(\"Enter number of rows: \"))\n",
    "n = int(input(\"Enter number of columns: \"))\n",
    "\n",
    "# Step 2: Initialize an empty matrix with zeros\n",
    "U = np.zeros((m, n))\n",
    "\n",
    "# Step 3: Take input for each element\n",
    "print(\"Enter the elements row by row:\")\n",
    "for i in range(m):\n",
    "    for j in range(n):\n",
    "        U[i, j] = float(input(f\"Element at row {i+1}, column {j+1}: \"))\n",
    "\n",
    "# Step 4: Print the final matrix\n",
    "print(\"\\nThe matrix U is:\")\n",
    "print(U)\n",
    "\n",
    " \n",
    "\n"
   ]
  },
  {
   "cell_type": "code",
   "execution_count": 26,
   "id": "2637fd3a-71ce-4853-af68-63e098147428",
   "metadata": {},
   "outputs": [
    {
     "name": "stdout",
     "output_type": "stream",
     "text": [
      "[[1. 3.]\n",
      " [2. 4.]]\n"
     ]
    }
   ],
   "source": [
    "X=U.T\n",
    "print(x)"
   ]
  },
  {
   "cell_type": "code",
   "execution_count": 27,
   "id": "5d9948da-db57-49d0-9a3f-943a350da481",
   "metadata": {},
   "outputs": [
    {
     "name": "stdout",
     "output_type": "stream",
     "text": [
      "[[0.06352539 0.46629916]]\n"
     ]
    }
   ],
   "source": [
    "m=2\n",
    "Y=np.random.random((1,m))\n",
    "print(y)"
   ]
  },
  {
   "cell_type": "code",
   "execution_count": 28,
   "id": "fe0198cc-d61f-42bc-baaa-720d0a2b628c",
   "metadata": {},
   "outputs": [
    {
     "name": "stdout",
     "output_type": "stream",
     "text": [
      "[[0.65288541 0.56803214]\n",
      " [0.97114135 0.6087056 ]\n",
      " [0.71152809 0.72190136]]\n"
     ]
    }
   ],
   "source": [
    "p=3\n",
    "n=2\n",
    "W1=np.random.random((p,n))\n",
    "print(W1)"
   ]
  },
  {
   "cell_type": "code",
   "execution_count": 29,
   "id": "38c6bbcd-fe9c-4ed8-86b3-60a7d60c49e7",
   "metadata": {},
   "outputs": [
    {
     "name": "stdout",
     "output_type": "stream",
     "text": [
      "[[0.49703566]\n",
      " [0.71133319]\n",
      " [0.17505956]]\n"
     ]
    }
   ],
   "source": [
    "B1=np.random.random((p,1))\n",
    "print(B1)"
   ]
  },
  {
   "cell_type": "code",
   "execution_count": 30,
   "id": "c39ebd61-9cc7-4d13-b2fc-35ae09056eda",
   "metadata": {},
   "outputs": [
    {
     "name": "stdout",
     "output_type": "stream",
     "text": [
      "[[0.79392973 0.29557185 0.42653279]]\n"
     ]
    }
   ],
   "source": [
    "W2=np.random.random((1,p))\n",
    "print(W2)"
   ]
  },
  {
   "cell_type": "code",
   "execution_count": 31,
   "id": "75372b27-c1c2-49b0-a9b3-26f23c6d951a",
   "metadata": {},
   "outputs": [
    {
     "name": "stdout",
     "output_type": "stream",
     "text": [
      "0.9049742597896147\n"
     ]
    }
   ],
   "source": [
    "B2=np.random.rand()\n",
    "print(B2)"
   ]
  },
  {
   "cell_type": "code",
   "execution_count": 33,
   "id": "82bc8ab0-4218-481e-82e6-de1ef69ce489",
   "metadata": {},
   "outputs": [],
   "source": [
    "\n"
   ]
  },
  {
   "cell_type": "code",
   "execution_count": null,
   "id": "405fc2fc-df6c-4cc1-867d-c22aaed650a4",
   "metadata": {},
   "outputs": [],
   "source": [
    "\n"
   ]
  },
  {
   "cell_type": "code",
   "execution_count": 39,
   "id": "dffee186-3811-4495-8aa7-46600b3940a0",
   "metadata": {},
   "outputs": [
    {
     "name": "stdout",
     "output_type": "stream",
     "text": [
      "Z1:\n",
      " [[2.28430491 6.51200702]\n",
      " [2.89926085 8.24636097]\n",
      " [2.32948796 7.35002224]]\n"
     ]
    }
   ],
   "source": [
    "Z1 = np.dot(W1, X) + B1\n",
    "print(\"Z1:\\n\", Z1)\n"
   ]
  },
  {
   "cell_type": "code",
   "execution_count": 40,
   "id": "0aaa066d-7fcf-4edc-8252-c934a74e27eb",
   "metadata": {},
   "outputs": [
    {
     "name": "stdout",
     "output_type": "stream",
     "text": [
      "A1:\n",
      " [[2.28430491 6.51200702]\n",
      " [2.89926085 8.24636097]\n",
      " [2.32948796 7.35002224]]\n"
     ]
    }
   ],
   "source": [
    "def f(Z1):\n",
    "    return np.maximum(0, Z1)  # ReLU\n",
    "\n",
    "A1 = f(Z1)\n",
    "print(\"A1:\\n\", A1)\n"
   ]
  },
  {
   "cell_type": "code",
   "execution_count": 41,
   "id": "88c575e1-3752-4c59-a0b1-871fcbde1d6c",
   "metadata": {},
   "outputs": [
    {
     "name": "stdout",
     "output_type": "stream",
     "text": [
      "Z2:\n",
      " [[ 4.56201675 11.62737751]]\n"
     ]
    }
   ],
   "source": [
    "Z2 = np.dot(W2, A1) + B2\n",
    "print(\"Z2:\\n\", Z2)\n"
   ]
  },
  {
   "cell_type": "code",
   "execution_count": 42,
   "id": "5c6e0d3d-5d63-4c4c-9753-a97bdc41f1d5",
   "metadata": {},
   "outputs": [
    {
     "name": "stdout",
     "output_type": "stream",
     "text": [
      "A2:\n",
      " [[0.98966691 0.99999108]]\n"
     ]
    }
   ],
   "source": [
    "def g(Z2):\n",
    "    return 1 / (1 + np.exp(-Z2))  # Sigmoid\n",
    "\n",
    "A2 = g(Z2)\n",
    "print(\"A2:\\n\", A2)\n"
   ]
  },
  {
   "cell_type": "code",
   "execution_count": 43,
   "id": "8b9af698-92a1-425f-a1c1-727e89db4930",
   "metadata": {},
   "outputs": [
    {
     "name": "stdout",
     "output_type": "stream",
     "text": [
      "Loss L:\n",
      " [[0.10601315 0.27593616]]\n"
     ]
    }
   ],
   "source": [
    "L = 0.5 * np.square(A2 - Y)\n",
    "print(\"Loss L:\\n\", L)\n"
   ]
  },
  {
   "cell_type": "code",
   "execution_count": 44,
   "id": "767d35f7-f473-4695-b208-b4133aaa2695",
   "metadata": {},
   "outputs": [
    {
     "name": "stdout",
     "output_type": "stream",
     "text": [
      "dA2:\n",
      " [[0.46046313 0.7428811 ]]\n"
     ]
    }
   ],
   "source": [
    "dA2 = A2 - Y\n",
    "print(\"dA2:\\n\", dA2)\n"
   ]
  },
  {
   "cell_type": "code",
   "execution_count": 45,
   "id": "794ce488-274b-4413-99b6-660a2be11870",
   "metadata": {},
   "outputs": [
    {
     "name": "stdout",
     "output_type": "stream",
     "text": [
      "dZ2:\n",
      " [[4.70884353e-03 6.62530188e-06]]\n"
     ]
    }
   ],
   "source": [
    "def gprime(Z2):\n",
    "    gz2 = g(Z2)\n",
    "    return gz2 * (1 - gz2)\n",
    "\n",
    "dZ2 = dA2 * gprime(Z2)  # element-wise multiplication\n",
    "print(\"dZ2:\\n\", dZ2)\n"
   ]
  },
  {
   "cell_type": "code",
   "execution_count": 46,
   "id": "b7de7b76-e13f-4e22-ac7b-687ff2b1b657",
   "metadata": {},
   "outputs": [
    {
     "name": "stdout",
     "output_type": "stream",
     "text": [
      "dA1:\n",
      " [[3.73469295e-03 5.25468048e-06]\n",
      " [1.38698263e-03 1.95147249e-06]\n",
      " [2.00460220e-03 2.82045786e-06]]\n"
     ]
    }
   ],
   "source": [
    "dA1 = np.dot(W2.T, dZ2)\n",
    "print(\"dA1:\\n\", dA1)\n"
   ]
  },
  {
   "cell_type": "code",
   "execution_count": 47,
   "id": "61a2fd16-2c96-4e7d-a6dd-7fc4b7820bf9",
   "metadata": {},
   "outputs": [
    {
     "name": "stdout",
     "output_type": "stream",
     "text": [
      "dZ1:\n",
      " [[3.73469295e-03 5.25468048e-06]\n",
      " [1.38698263e-03 1.95147249e-06]\n",
      " [2.00460220e-03 2.82045786e-06]]\n"
     ]
    }
   ],
   "source": [
    "def fprime(Z1):\n",
    "    return (Z1 > 0).astype(float)  # derivative of ReLU\n",
    "\n",
    "dZ1 = dA1 * fprime(Z1)\n",
    "print(\"dZ1:\\n\", dZ1)\n"
   ]
  },
  {
   "cell_type": "code",
   "execution_count": 48,
   "id": "fed38a18-f091-46d2-92cc-c6cfd0aaefb2",
   "metadata": {},
   "outputs": [
    {
     "name": "stdout",
     "output_type": "stream",
     "text": [
      "dW1:\n",
      " [[0.00187786 0.00375046]\n",
      " [0.00069739 0.00139284]\n",
      " [0.00100794 0.00201306]]\n"
     ]
    }
   ],
   "source": [
    "m = X.shape[1]  # number of samples\n",
    "dW1 = (1/m) * np.dot(dZ1, X.T)\n",
    "print(\"dW1:\\n\", dW1)\n"
   ]
  },
  {
   "cell_type": "code",
   "execution_count": 49,
   "id": "40838bed-1154-4ab1-8795-cdd3444b1fbf",
   "metadata": {},
   "outputs": [
    {
     "name": "stdout",
     "output_type": "stream",
     "text": [
      "dB1:\n",
      " [[0.00186997]\n",
      " [0.00069447]\n",
      " [0.00100371]]\n"
     ]
    }
   ],
   "source": [
    "dB1 = (1/m) * np.sum(dZ1, axis=1, keepdims=True)\n",
    "print(\"dB1:\\n\", dB1)\n"
   ]
  },
  {
   "cell_type": "code",
   "execution_count": 50,
   "id": "440130f0-85b9-4986-bc89-d14ed2e317b4",
   "metadata": {},
   "outputs": [
    {
     "name": "stdout",
     "output_type": "stream",
     "text": [
      "dW2:\n",
      " [[0.00539979 0.0068534  0.00550895]]\n"
     ]
    }
   ],
   "source": [
    "dW2 = (1/m) * np.dot(dZ2, A1.T)\n",
    "print(\"dW2:\\n\", dW2)\n"
   ]
  },
  {
   "cell_type": "code",
   "execution_count": null,
   "id": "872452ce-d18f-4e86-a195-bc3bfb36b149",
   "metadata": {},
   "outputs": [],
   "source": []
  }
 ],
 "metadata": {
  "kernelspec": {
   "display_name": "Python (venv)",
   "language": "python",
   "name": "venv"
  },
  "language_info": {
   "codemirror_mode": {
    "name": "ipython",
    "version": 3
   },
   "file_extension": ".py",
   "mimetype": "text/x-python",
   "name": "python",
   "nbconvert_exporter": "python",
   "pygments_lexer": "ipython3",
   "version": "3.12.3"
  }
 },
 "nbformat": 4,
 "nbformat_minor": 5
}
