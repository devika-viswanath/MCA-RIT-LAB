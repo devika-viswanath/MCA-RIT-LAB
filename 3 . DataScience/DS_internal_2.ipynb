{
 "cells": [
  {
   "cell_type": "code",
   "execution_count": 5,
   "id": "17040133-cc82-4f09-9290-b06f716ceff6",
   "metadata": {},
   "outputs": [
    {
     "name": "stdout",
     "output_type": "stream",
     "text": [
      "    EmployeeID  SalesScore  CustomerRating\n",
      "0          200         105               1\n",
      "1          201         105               1\n",
      "2          202         163               5\n",
      "3          203         102               7\n",
      "4          204         187               9\n",
      "5          205          87               2\n",
      "6          206          84               1\n",
      "7          207         151               5\n",
      "8          208         114               2\n",
      "9          209          77               1\n",
      "10         210         131               4\n",
      "11         211         105               9\n",
      "12         212         119               7\n",
      "13         213          73               6\n",
      "14         214         157               3\n",
      "15         215         125               3\n",
      "16         216         126               8\n",
      "17         217         195               4\n",
      "18         218         126               1\n",
      "19         219          75              10\n",
      "20         220          71               4\n",
      "21         221          70               7\n",
      "22         222         159               7\n",
      "23         223         191               6\n",
      "24         224         164               4\n",
      "25         225         161               2\n",
      "26         226          63              10\n",
      "27         227         123               6\n",
      "28         228         135               9\n",
      "29         229         195               9\n",
      "30         230          85               8\n",
      "31         231         114               4\n",
      "32         232         168               8\n",
      "33         233          68               4\n",
      "34         234         184               9\n",
      "35         235          60               8\n",
      "36         236          70               6\n",
      "37         237         167               2\n",
      "38         238         151               9\n",
      "39         239          67               5\n",
      "40         240          87               3\n",
      "   EmployeeID  SalesScore  CustomerRating\n",
      "0         200         105               1\n",
      "1         201         105               1\n",
      "2         202         163               5\n",
      "3         203         102               7\n",
      "4         204         187               9\n"
     ]
    }
   ],
   "source": [
    "# Step 1: Import required libraries\n",
    "# ---------------------------------------------------\n",
    "import pandas as pd\n",
    "import numpy as np\n",
    "from sklearn.model_selection import train_test_split\n",
    "from sklearn.linear_model import LogisticRegression\n",
    "from sklearn.metrics import accuracy_score, confusion_matrix\n",
    "\n",
    "import pandas as pd\n",
    "import numpy as np\n",
    "\n",
    "df = pd.DataFrame({\n",
    "    \"EmployeeID\": range(200, 241),\n",
    "    \"SalesScore\": np.random.randint(50, 201, size=41),\n",
    "    \"CustomerRating\": np.random.randint(1, 11, size=41)\n",
    "})\n",
    "\n",
    "print(df)\n",
    "# Read first 5 rows\n",
    "print(df.head())\n",
    "\n"
   ]
  },
  {
   "cell_type": "code",
   "execution_count": 4,
   "id": "6c820865-3eec-455e-8aa9-a47dd66d836b",
   "metadata": {},
   "outputs": [
    {
     "name": "stdout",
     "output_type": "stream",
     "text": [
      "    EmployeeID  SalesScore  CustomerRating\n",
      "3          203         171               2\n",
      "4          204         180               2\n",
      "10         210         179               1\n",
      "13         213         182               1\n",
      "14         214         199               8\n",
      "15         215         161              10\n",
      "23         223         193               9\n",
      "26         226         176               9\n",
      "27         227         168               5\n",
      "28         228         167               5\n",
      "30         230         183               4\n",
      "31         231         161               3\n",
      "36         236         198               2\n",
      "40         240         186               2\n"
     ]
    }
   ],
   "source": [
    "# Filter\n",
    "print(df[df['SalesScore'] > 150])\n"
   ]
  },
  {
   "cell_type": "code",
   "execution_count": 6,
   "id": "fe52f166-fc46-4fab-9394-382dccbf0dd9",
   "metadata": {},
   "outputs": [
    {
     "name": "stdout",
     "output_type": "stream",
     "text": [
      "    EmployeeID  SalesScore  CustomerRating\n",
      "0          200         105               1\n",
      "1          201         105               1\n",
      "2          202         163               5\n",
      "3          203         102               7\n",
      "4          204         187               9\n",
      "5          205          87               2\n",
      "6          206          84               1\n",
      "7          207         151               5\n",
      "8          208         114               2\n",
      "9          209          77               1\n",
      "10         210         131               4\n",
      "11         211         105               9\n",
      "12         212         119               7\n",
      "13         213          73               6\n",
      "14         214         157               3\n",
      "15         215         125               3\n",
      "16         216         126               8\n",
      "17         217         195               4\n",
      "18         218         126               1\n",
      "19         219          75              10\n",
      "20         220          71               4\n",
      "21         221          70               7\n",
      "22         222         159               7\n",
      "23         223         191               6\n",
      "24         224         164               4\n",
      "25         225         161               2\n",
      "26         226          63              10\n",
      "27         227         123               6\n",
      "28         228         135               9\n",
      "29         229         195               9\n",
      "30         230          85               8\n",
      "31         231         114               4\n",
      "32         232         168               8\n",
      "33         233          68               4\n",
      "34         234         184               9\n",
      "35         235          60               8\n",
      "36         236          70               6\n",
      "37         237         167               2\n",
      "38         238         151               9\n",
      "39         239          67               5\n",
      "40         240          87               3\n"
     ]
    }
   ],
   "source": [
    "filtered = df[(df[\"SalesScore\"] >= 150) | (df[\"CustomerRating\"] > 8)]\n",
    "print(df)"
   ]
  },
  {
   "cell_type": "code",
   "execution_count": 11,
   "id": "de2f32e2-7502-40e8-958f-bee7162d491f",
   "metadata": {},
   "outputs": [],
   "source": [
    "df[\"SalesScoreNorm\"] = (df[\"SalesScore\"] - df[\"SalesScore\"].min()) / (\n",
    "                        df[\"SalesScore\"].max() - df[\"SalesScore\"].min())\n"
   ]
  },
  {
   "cell_type": "code",
   "execution_count": 12,
   "id": "a2b9a0fe-6c76-4ac9-82ce-36cb2e887237",
   "metadata": {},
   "outputs": [
    {
     "name": "stdout",
     "output_type": "stream",
     "text": [
      "<bound method NDFrame.head of     EmployeeID  SalesScore  CustomerRating  SalesScoreNorm    Status\n",
      "0          200         105               1        0.333333    Retain\n",
      "1          201         105               1        0.333333    Retain\n",
      "2          202         163               5        0.762963    Retain\n",
      "3          203         102               7        0.311111    Retain\n",
      "4          204         187               9        0.940741  Promoted\n",
      "5          205          87               2        0.200000    Retain\n",
      "6          206          84               1        0.177778    Retain\n",
      "7          207         151               5        0.674074    Retain\n",
      "8          208         114               2        0.400000    Retain\n",
      "9          209          77               1        0.125926    Retain\n",
      "10         210         131               4        0.525926    Retain\n",
      "11         211         105               9        0.333333    Retain\n",
      "12         212         119               7        0.437037    Retain\n",
      "13         213          73               6        0.096296    Retain\n",
      "14         214         157               3        0.718519    Retain\n",
      "15         215         125               3        0.481481    Retain\n",
      "16         216         126               8        0.488889  Promoted\n",
      "17         217         195               4        1.000000    Retain\n",
      "18         218         126               1        0.488889    Retain\n",
      "19         219          75              10        0.111111    Retain\n",
      "20         220          71               4        0.081481    Retain\n",
      "21         221          70               7        0.074074    Retain\n",
      "22         222         159               7        0.733333  Promoted\n",
      "23         223         191               6        0.970370    Retain\n",
      "24         224         164               4        0.770370    Retain\n",
      "25         225         161               2        0.748148    Retain\n",
      "26         226          63              10        0.022222    Retain\n",
      "27         227         123               6        0.466667    Retain\n",
      "28         228         135               9        0.555556  Promoted\n",
      "29         229         195               9        1.000000  Promoted\n",
      "30         230          85               8        0.185185    Retain\n",
      "31         231         114               4        0.400000    Retain\n",
      "32         232         168               8        0.800000  Promoted\n",
      "33         233          68               4        0.059259    Retain\n",
      "34         234         184               9        0.918519  Promoted\n",
      "35         235          60               8        0.000000    Retain\n",
      "36         236          70               6        0.074074    Retain\n",
      "37         237         167               2        0.792593    Retain\n",
      "38         238         151               9        0.674074  Promoted\n",
      "39         239          67               5        0.051852    Retain\n",
      "40         240          87               3        0.200000    Retain>\n"
     ]
    }
   ],
   "source": [
    "df[\"Status\"] = np.where(\n",
    "    (df[\"SalesScore\"] >= 120) & (df[\"CustomerRating\"] >= 7),\n",
    "    \"Promoted\", \"Retain\"\n",
    ")\n",
    "print(df.head)"
   ]
  },
  {
   "cell_type": "code",
   "execution_count": 13,
   "id": "24ffc608-76c9-4cdd-8ee3-b8eec368fad9",
   "metadata": {},
   "outputs": [
    {
     "name": "stdout",
     "output_type": "stream",
     "text": [
      "[[ 2  0]\n",
      " [ 1 10]]\n",
      "              precision    recall  f1-score   support\n",
      "\n",
      "    Promoted       0.67      1.00      0.80         2\n",
      "      Retain       1.00      0.91      0.95        11\n",
      "\n",
      "    accuracy                           0.92        13\n",
      "   macro avg       0.83      0.95      0.88        13\n",
      "weighted avg       0.95      0.92      0.93        13\n",
      "\n"
     ]
    }
   ],
   "source": [
    "X = df[[\"SalesScoreNorm\", \"CustomerRating\"]]\n",
    "y = df[\"Status\"]\n",
    "\n",
    "X_train, X_test, y_train, y_test = train_test_split(X, y, test_size=0.3, random_state=42)\n",
    "from sklearn.tree import DecisionTreeClassifier\n",
    "model = DecisionTreeClassifier(random_state=42)\n",
    "model.fit(X_train, y_train)\n",
    "y_pred = model.predict(X_test)\n",
    "from sklearn.metrics import confusion_matrix, classification_report\n",
    "\n",
    "print(confusion_matrix(y_test, y_pred))\n",
    "print(classification_report(y_test, y_pred))\n"
   ]
  },
  {
   "cell_type": "code",
   "execution_count": 15,
   "id": "472add40-3e8a-42c2-b4c5-0be6685aab17",
   "metadata": {},
   "outputs": [
    {
     "name": "stdout",
     "output_type": "stream",
     "text": [
      "Z1:\n",
      " [[ 0.73039645]\n",
      " [ 0.2019254 ]\n",
      " [-1.314518  ]\n",
      " [-1.5326632 ]]\n",
      "A1:\n",
      " [[ 0.6233078 ]\n",
      " [ 0.199225  ]\n",
      " [-0.86541414]\n",
      " [-0.91087914]]\n",
      "Z2:\n",
      " [[-0.43226904]\n",
      " [-0.5596659 ]]\n",
      "A2:\n",
      " [[0.39358464]\n",
      " [0.36362475]]\n"
     ]
    }
   ],
   "source": [
    "import tensorflow as tf\n",
    "\n",
    "tf.random.set_seed(42)  # for reproducibility\n",
    "\n",
    "W1 = tf.random.normal((6, 4))   # Matrix 1\n",
    "W2 = tf.random.normal((2, 4))   # Matrix 2\n",
    "b1 = tf.random.normal((4, 1))   # Bias 1\n",
    "W3 = tf.random.normal((2, 2))   # Matrix 3 (not directly used later)\n",
    "b2 = tf.random.normal((2, 1))   # Bias 2\n",
    "\n",
    "# Input vector\n",
    "X = tf.random.normal((6, 1))\n",
    "Z1 = tf.matmul(tf.transpose(W1), X) + b1   # Linear combination for layer 1\n",
    "A1 = tf.nn.tanh(Z1)                        # Activation for layer 1\n",
    "Z2 = tf.matmul(W2, A1) + b2                # Linear combination for layer 2\n",
    "A2 = tf.nn.sigmoid(Z2)                     # Activation for output layer\n",
    "print(\"Z1:\\n\", Z1.numpy())\n",
    "print(\"A1:\\n\", A1.numpy())\n",
    "print(\"Z2:\\n\", Z2.numpy())\n",
    "print(\"A2:\\n\", A2.numpy())\n"
   ]
  },
  {
   "cell_type": "code",
   "execution_count": 16,
   "id": "5cbc52e5-ee0b-4a57-90c4-462944461cdf",
   "metadata": {},
   "outputs": [
    {
     "name": "stdout",
     "output_type": "stream",
     "text": [
      "Z:\n",
      " [[-0.9248416   0.09371817  1.1959927 ]\n",
      " [-1.5455334  -0.80186665 -0.7425548 ]\n",
      " [-0.2093615  -0.88885844 -0.00704423]]\n",
      "\n",
      "Activated Output (ReLU):\n",
      " [[0.         0.09371817 1.1959927 ]\n",
      " [0.         0.         0.        ]\n",
      " [0.         0.         0.        ]]\n",
      "\n",
      "Gradient wrt A:\n",
      " [[-2.8668652 -1.7833151]\n",
      " [ 0.         0.       ]\n",
      " [ 0.         0.       ]]\n",
      "\n",
      "Gradient wrt B:\n",
      " [[ 0.        -0.8757808 -0.8757808]\n",
      " [ 0.         0.3356369  0.3356369]]\n"
     ]
    }
   ],
   "source": [
    "import tensorflow as tf\n",
    "\n",
    "# Step 1: Create tensors\n",
    "tf.random.set_seed(10)\n",
    "A = tf.random.normal((3, 2))\n",
    "B = tf.random.normal((2, 3))\n",
    "b = tf.random.normal((3, 1))\n",
    "\n",
    "# Step 2: Forward computation\n",
    "Z = tf.matmul(A, B) + b\n",
    "A_relu = tf.nn.relu(Z)\n",
    "\n",
    "print(\"Z:\\n\", Z.numpy())\n",
    "print(\"\\nActivated Output (ReLU):\\n\", A_relu.numpy())\n",
    "\n",
    "# Step 3: Compute gradients\n",
    "with tf.GradientTape() as tape:\n",
    "    tape.watch([A, B])\n",
    "    Z = tf.matmul(A, B) + b\n",
    "    A_relu = tf.nn.relu(Z)\n",
    "\n",
    "grads = tape.gradient(A_relu, [A, B])\n",
    "\n",
    "print(\"\\nGradient wrt A:\\n\", grads[0].numpy())\n",
    "print(\"\\nGradient wrt B:\\n\", grads[1].numpy())\n"
   ]
  },
  {
   "cell_type": "code",
   "execution_count": null,
   "id": "3ceb9de7-a7f9-43ae-82a5-d5f43dad447a",
   "metadata": {},
   "outputs": [],
   "source": []
  }
 ],
 "metadata": {
  "kernelspec": {
   "display_name": "Python (venv)",
   "language": "python",
   "name": "venv"
  },
  "language_info": {
   "codemirror_mode": {
    "name": "ipython",
    "version": 3
   },
   "file_extension": ".py",
   "mimetype": "text/x-python",
   "name": "python",
   "nbconvert_exporter": "python",
   "pygments_lexer": "ipython3",
   "version": "3.12.3"
  }
 },
 "nbformat": 4,
 "nbformat_minor": 5
}
