{
 "cells": [
  {
   "cell_type": "code",
   "execution_count": 25,
   "id": "1279e486-f621-40e3-a74a-36f3ae782b93",
   "metadata": {},
   "outputs": [
    {
     "name": "stdout",
     "output_type": "stream",
     "text": [
      "Dataset created and saved!\n",
      "   No  X1 transaction date  X2 house age  X3 distance to MRT station  \\\n",
      "0   1               2012.5            32                    84.87882   \n",
      "1   2               2012.6            19                   306.59470   \n",
      "2   3               2013.0            13                   561.98450   \n",
      "\n",
      "   X4 number of convenience stores  X5 latitude  X6 longitude  \\\n",
      "0                               10     24.98298     121.54024   \n",
      "1                                9     24.98034     121.53951   \n",
      "2                                5     24.98746     121.54391   \n",
      "\n",
      "   Y house price of unit area  \n",
      "0                        37.9  \n",
      "1                        42.2  \n",
      "2                        47.3  \n"
     ]
    }
   ],
   "source": [
    "import pandas as pd\n",
    "\n",
    "data = {\n",
    "    'No': [1, 2, 3],\n",
    "    'X1 transaction date': [2012.5, 2012.6, 2013.0],\n",
    "    'X2 house age': [32, 19, 13],\n",
    "    'X3 distance to MRT station': [84.87882, 306.5947, 561.9845],\n",
    "    'X4 number of convenience stores': [10, 9, 5],\n",
    "    'X5 latitude': [24.98298, 24.98034, 24.98746],\n",
    "    'X6 longitude': [121.54024, 121.53951, 121.54391],\n",
    "    'Y house price of unit area': [37.9, 42.2, 47.3]\n",
    "}\n",
    "\n",
    "df = pd.DataFrame(data)\n",
    "df.to_csv(\"Real estate - Real estate.csv\", index=False)\n",
    "print(\"Dataset created and saved!\")\n",
    "print(df)\n"
   ]
  },
  {
   "cell_type": "code",
   "execution_count": 10,
   "id": "6ec0e5fa-aa8a-40dd-81f9-68516e234986",
   "metadata": {},
   "outputs": [
    {
     "name": "stdout",
     "output_type": "stream",
     "text": [
      "Dataset loaded successfully!\n",
      "   No  X1 transaction date  X2 house age  X3 distance to MRT station  \\\n",
      "0   1               2012.5            32                    84.87882   \n",
      "1   2               2012.6            19                   306.59470   \n",
      "2   3               2013.0            13                   561.98450   \n",
      "\n",
      "   X4 number of convenience stores  X5 latitude  X6 longitude  \\\n",
      "0                               10     24.98298     121.54024   \n",
      "1                                9     24.98034     121.53951   \n",
      "2                                5     24.98746     121.54391   \n",
      "\n",
      "   Y house price of unit area  \n",
      "0                        37.9  \n",
      "1                        42.2  \n",
      "2                        47.3  \n",
      "\n",
      "TensorFlow tensor shape: (3, 8)\n"
     ]
    }
   ],
   "source": [
    "import pandas as pd\n",
    "import numpy as np\n",
    "import seaborn as sns\n",
    "import tensorflow as tf\n",
    "import matplotlib.pyplot as plt\n",
    "\n",
    "# Load dataset\n",
    "df = pd.read_csv(\"Real estate - Real estate.csv\")\n",
    "print(\"Dataset loaded successfully!\")\n",
    "print(df.head())\n",
    "print(\"\\nTensorFlow tensor shape:\", tf.convert_to_tensor(df.values, dtype=tf.float32).shape)\n"
   ]
  },
  {
   "cell_type": "code",
   "execution_count": 21,
   "id": "73c36c76-72ed-4f48-b725-004ba38ff8e9",
   "metadata": {},
   "outputs": [
    {
     "name": "stdout",
     "output_type": "stream",
     "text": [
      "First 5 rows:\n",
      "    No  X1 transaction date  X2 house age  X3 distance to MRT station  \\\n",
      "0   1               2012.5            32                    84.87882   \n",
      "1   2               2012.6            19                   306.59470   \n",
      "2   3               2013.0            13                   561.98450   \n",
      "\n",
      "   X4 number of convenience stores  X5 latitude  X6 longitude  \\\n",
      "0                               10     24.98298     121.54024   \n",
      "1                                9     24.98034     121.53951   \n",
      "2                                5     24.98746     121.54391   \n",
      "\n",
      "   Y house price of unit area  \n",
      "0                        37.9  \n",
      "1                        42.2  \n",
      "2                        47.3  \n",
      "\n",
      "Last 3 rows:\n",
      "    No  X1 transaction date  X2 house age  X3 distance to MRT station  \\\n",
      "0   1               2012.5            32                    84.87882   \n",
      "1   2               2012.6            19                   306.59470   \n",
      "2   3               2013.0            13                   561.98450   \n",
      "\n",
      "   X4 number of convenience stores  X5 latitude  X6 longitude  \\\n",
      "0                               10     24.98298     121.54024   \n",
      "1                                9     24.98034     121.53951   \n",
      "2                                5     24.98746     121.54391   \n",
      "\n",
      "   Y house price of unit area  \n",
      "0                        37.9  \n",
      "1                        42.2  \n",
      "2                        47.3  \n"
     ]
    }
   ],
   "source": [
    "print(\"First 5 rows:\\n\", df.head())\n",
    "print(\"\\nLast 3 rows:\\n\", df.tail(3))\n"
   ]
  },
  {
   "cell_type": "code",
   "execution_count": 22,
   "id": "3bcd1d76-5122-427b-825a-ea49a30dab6b",
   "metadata": {},
   "outputs": [
    {
     "name": "stdout",
     "output_type": "stream",
     "text": [
      "\n",
      "Shape of dataset (rows, columns): (3, 8)\n"
     ]
    }
   ],
   "source": [
    "print(\"\\nShape of dataset (rows, columns):\", df.shape)\n"
   ]
  },
  {
   "cell_type": "code",
   "execution_count": 23,
   "id": "6c81ce72-a3ea-4c91-967b-434681fc7f8c",
   "metadata": {},
   "outputs": [
    {
     "name": "stdout",
     "output_type": "stream",
     "text": [
      "\n",
      "Descriptive Statistics:\n",
      "         No  X1 transaction date  X2 house age  X3 distance to MRT station  \\\n",
      "count  3.0             3.000000      3.000000                    3.000000   \n",
      "mean   2.0          2012.700000     21.333333                  317.819340   \n",
      "std    1.0             0.264575      9.712535                  238.750815   \n",
      "min    1.0          2012.500000     13.000000                   84.878820   \n",
      "25%    1.5          2012.550000     16.000000                  195.736760   \n",
      "50%    2.0          2012.600000     19.000000                  306.594700   \n",
      "75%    2.5          2012.800000     25.500000                  434.289600   \n",
      "max    3.0          2013.000000     32.000000                  561.984500   \n",
      "\n",
      "       X4 number of convenience stores  X5 latitude  X6 longitude  \\\n",
      "count                         3.000000     3.000000      3.000000   \n",
      "mean                          8.000000    24.983593    121.541220   \n",
      "std                           2.645751     0.003599      0.002358   \n",
      "min                           5.000000    24.980340    121.539510   \n",
      "25%                           7.000000    24.981660    121.539875   \n",
      "50%                           9.000000    24.982980    121.540240   \n",
      "75%                           9.500000    24.985220    121.542075   \n",
      "max                          10.000000    24.987460    121.543910   \n",
      "\n",
      "       Y house price of unit area  \n",
      "count                    3.000000  \n",
      "mean                    42.466667  \n",
      "std                      4.705670  \n",
      "min                     37.900000  \n",
      "25%                     40.050000  \n",
      "50%                     42.200000  \n",
      "75%                     44.750000  \n",
      "max                     47.300000  \n",
      "\n",
      "Median values:\n",
      " No                                    2.00000\n",
      "X1 transaction date                2012.60000\n",
      "X2 house age                         19.00000\n",
      "X3 distance to MRT station          306.59470\n",
      "X4 number of convenience stores       9.00000\n",
      "X5 latitude                          24.98298\n",
      "X6 longitude                        121.54024\n",
      "Y house price of unit area           42.20000\n",
      "dtype: float64\n",
      "\n",
      "Five-point summary:\n",
      "       No  X1 transaction date  X2 house age  X3 distance to MRT station  \\\n",
      "min  1.0              2012.50          13.0                    84.87882   \n",
      "25%  1.5              2012.55          16.0                   195.73676   \n",
      "50%  2.0              2012.60          19.0                   306.59470   \n",
      "75%  2.5              2012.80          25.5                   434.28960   \n",
      "max  3.0              2013.00          32.0                   561.98450   \n",
      "\n",
      "     X4 number of convenience stores  X5 latitude  X6 longitude  \\\n",
      "min                              5.0     24.98034    121.539510   \n",
      "25%                              7.0     24.98166    121.539875   \n",
      "50%                              9.0     24.98298    121.540240   \n",
      "75%                              9.5     24.98522    121.542075   \n",
      "max                             10.0     24.98746    121.543910   \n",
      "\n",
      "     Y house price of unit area  \n",
      "min                       37.90  \n",
      "25%                       40.05  \n",
      "50%                       42.20  \n",
      "75%                       44.75  \n",
      "max                       47.30  \n",
      "\n",
      "Interquartile Range (IQR):\n",
      " No                                   1.00000\n",
      "X1 transaction date                  0.25000\n",
      "X2 house age                         9.50000\n",
      "X3 distance to MRT station         238.55284\n",
      "X4 number of convenience stores      2.50000\n",
      "X5 latitude                          0.00356\n",
      "X6 longitude                         0.00220\n",
      "Y house price of unit area           4.70000\n",
      "dtype: float64\n"
     ]
    }
   ],
   "source": [
    "print(\"\\nDescriptive Statistics:\\n\", df.describe())\n",
    "print(\"\\nMedian values:\\n\", df.median(numeric_only=True))\n",
    "\n",
    "# Five-point summary\n",
    "summary = df.describe().loc[[\"min\", \"25%\", \"50%\", \"75%\", \"max\"]]\n",
    "print(\"\\nFive-point summary:\\n\", summary)\n",
    "\n",
    "# IQR\n",
    "Q1 = df.quantile(0.25)\n",
    "Q3 = df.quantile(0.75)\n",
    "IQR = Q3 - Q1\n",
    "print(\"\\nInterquartile Range (IQR):\\n\", IQR)\n"
   ]
  },
  {
   "cell_type": "code",
   "execution_count": 8,
   "id": "88f25c56-cbd4-4a23-88fd-6f6bb8664ee5",
   "metadata": {},
   "outputs": [
    {
     "name": "stdout",
     "output_type": "stream",
     "text": [
      "\n",
      "Info about dataset:\n",
      "\n",
      "<class 'pandas.core.frame.DataFrame'>\n",
      "RangeIndex: 3 entries, 0 to 2\n",
      "Data columns (total 8 columns):\n",
      " #   Column                           Non-Null Count  Dtype  \n",
      "---  ------                           --------------  -----  \n",
      " 0   No                               3 non-null      int64  \n",
      " 1   X1 transaction date              3 non-null      float64\n",
      " 2   X2 house age                     3 non-null      int64  \n",
      " 3   X3 distance to MRT station       3 non-null      float64\n",
      " 4   X4 number of convenience stores  3 non-null      int64  \n",
      " 5   X5 latitude                      3 non-null      float64\n",
      " 6   X6 longitude                     3 non-null      float64\n",
      " 7   Y house price of unit area       3 non-null      float64\n",
      "dtypes: float64(5), int64(3)\n",
      "memory usage: 324.0 bytes\n",
      "None\n",
      "\n",
      "Missing values count:\n",
      " No                                 0\n",
      "X1 transaction date                0\n",
      "X2 house age                       0\n",
      "X3 distance to MRT station         0\n",
      "X4 number of convenience stores    0\n",
      "X5 latitude                        0\n",
      "X6 longitude                       0\n",
      "Y house price of unit area         0\n",
      "dtype: int64\n"
     ]
    }
   ],
   "source": [
    "print(\"\\nInfo about dataset:\\n\")\n",
    "print(df.info())\n",
    "print(\"\\nMissing values count:\\n\", df.isnull().sum())\n"
   ]
  },
  {
   "cell_type": "code",
   "execution_count": 24,
   "id": "25c204e6-10bb-4f15-a0bd-cf4d61c29ea0",
   "metadata": {},
   "outputs": [
    {
     "name": "stdout",
     "output_type": "stream",
     "text": [
      "   X2 house age    X22\n",
      "0            32  11680\n",
      "1            19   6935\n",
      "2            13   4745\n"
     ]
    }
   ],
   "source": [
    "df[\"X22\"] = df[\"X2 house age\"] * 365\n",
    "print(df[[\"X2 house age\", \"X22\"]].head())\n"
   ]
  },
  {
   "cell_type": "code",
   "execution_count": 10,
   "id": "10a7b395-42be-41b5-abb4-89fc8057c8af",
   "metadata": {},
   "outputs": [
    {
     "name": "stdout",
     "output_type": "stream",
     "text": [
      "   No  X1 transaction date  X2 house age  X3 distance to MRT station  \\\n",
      "0   1               2012.5            32                    84.87882   \n",
      "1   2               2012.6            19                   306.59470   \n",
      "2   3               2013.0            13                   561.98450   \n",
      "\n",
      "   X4 number of convenience stores  X5 latitude  X6 longitude  \\\n",
      "0                               10     24.98298     121.54024   \n",
      "1                                9     24.98034     121.53951   \n",
      "2                                5     24.98746     121.54391   \n",
      "\n",
      "   Y house price of unit area  \n",
      "0                        37.9  \n",
      "1                        42.2  \n",
      "2                        47.3  \n"
     ]
    }
   ],
   "source": [
    "df.drop(\"X22\", axis=1, inplace=True)\n",
    "print(df.head())\n"
   ]
  },
  {
   "cell_type": "code",
   "execution_count": 29,
   "id": "ac3d8a7f-30f5-477a-a49f-b443b7fc5bec",
   "metadata": {},
   "outputs": [
    {
     "name": "stdout",
     "output_type": "stream",
     "text": [
      "Shape before adding: (3, 8)\n",
      "Shape after adding: (6, 8)\n",
      "   No  X1 transaction date  X2 house age  X3 distance to MRT station  \\\n",
      "1   2               2012.6          19.0                    306.5947   \n",
      "2   3               2013.0          13.0                    561.9845   \n",
      "3   0                 15.0         560.0                      2.0000   \n",
      "4   0                 30.0        1800.0                      3.0000   \n",
      "5   0                  5.0         350.0                      1.0000   \n",
      "\n",
      "   X4 number of convenience stores  X5 latitude  X6 longitude  \\\n",
      "1                             9.00     24.98034     121.53951   \n",
      "2                             5.00     24.98746     121.54391   \n",
      "3                            24.98    121.54000      45.00000   \n",
      "4                            24.96    121.52000      35.00000   \n",
      "5                            24.97    121.50000      55.00000   \n",
      "\n",
      "   Y house price of unit area  \n",
      "1                        42.2  \n",
      "2                        47.3  \n",
      "3                        37.5  \n",
      "4                        22.3  \n",
      "5                        48.7  \n"
     ]
    }
   ],
   "source": [
    "print(\"Shape before adding:\", df.shape)\n",
    "\n",
    "new_rows = pd.DataFrame([\n",
    "    [0, 15, 560.0, 2, 24.98, 121.54, 45.0, 37.5],\n",
    "    [0, 30, 1800.0, 3, 24.96, 121.52, 35.0, 22.3],\n",
    "    [0, 5, 350.0, 1, 24.97, 121.50, 55.0, 48.7]\n",
    "], columns=df.columns)\n",
    "\n",
    "df = pd.concat([df, new_rows], ignore_index=True)\n",
    "\n",
    "print(\"Shape after adding:\", df.shape)\n",
    "print(df.tail())\n"
   ]
  },
  {
   "cell_type": "code",
   "execution_count": 30,
   "id": "a4eb7f3a-7e36-4683-89d8-f1d4f29530fa",
   "metadata": {},
   "outputs": [
    {
     "name": "stdout",
     "output_type": "stream",
     "text": [
      "(6, 8)\n",
      "Index(['No', 'X1 transaction date', 'X2 house age',\n",
      "       'X3 distance to MRT station', 'X4 number of convenience stores',\n",
      "       'X5 latitude', 'X6 longitude', 'Y house price of unit area'],\n",
      "      dtype='object')\n"
     ]
    }
   ],
   "source": [
    "print(df.shape)\n",
    "print(df.columns)"
   ]
  },
  {
   "cell_type": "code",
   "execution_count": 31,
   "id": "e294677a-e756-4fab-b352-2a0addc31259",
   "metadata": {},
   "outputs": [
    {
     "name": "stdout",
     "output_type": "stream",
     "text": [
      "Maximum price after update: 48.7\n"
     ]
    }
   ],
   "source": [
    "df.loc[df[\"Y house price of unit area\"] > 110, \"Y house price of unit area\"] = 110\n",
    "print(\"Maximum price after update:\", df[\"Y house price of unit area\"].max())\n"
   ]
  },
  {
   "cell_type": "code",
   "execution_count": 33,
   "id": "b7fe80b0-31eb-4492-a4e3-bf34f51b8b9c",
   "metadata": {},
   "outputs": [
    {
     "name": "stdout",
     "output_type": "stream",
     "text": [
      "Missing values after filling: 0\n"
     ]
    }
   ],
   "source": [
    "avg = df[\"X4 number of convenience stores\"].mean()\n",
    "df[\"X4 number of convenience stores\"] = df[\"X4 number of convenience stores\"].fillna(avg)\n",
    "print(\"Missing values after filling:\", df[\"X4 number of convenience stores\"].isnull().sum())\n"
   ]
  },
  {
   "cell_type": "code",
   "execution_count": 39,
   "id": "a3743992-f442-4cdd-957b-020d1f64d89e",
   "metadata": {},
   "outputs": [
    {
     "name": "stdout",
     "output_type": "stream",
     "text": [
      "\n",
      "Z-Score:\n",
      " 0   -0.326766\n",
      "1    0.638826\n",
      "2    1.751071\n",
      "3   -0.687710\n",
      "4   -0.683355\n",
      "Name: X3 distance to MRT station, dtype: float64\n",
      "\n",
      "Min-Max:\n",
      " 0    0.149521\n",
      "1    0.544747\n",
      "2    1.000000\n",
      "3    0.001783\n",
      "4    0.003565\n",
      "Name: X3 distance to MRT station, dtype: float64\n",
      "\n",
      "Decimal Scaling:\n",
      " 0    0.084879\n",
      "1    0.306595\n",
      "2    0.561984\n",
      "3    0.002000\n",
      "4    0.003000\n",
      "Name: X3 distance to MRT station, dtype: float64\n"
     ]
    }
   ],
   "source": [
    "x3 = df[\"X3 distance to MRT station\"]\n",
    "\n",
    "z_score = (x3 - x3.mean()) / x3.std()\n",
    "min_max = (x3 - x3.min()) / (x3.max() - x3.min())\n",
    "scaling_factor = 10 ** len(str(int(x3.abs().max())))\n",
    "decimal_scaled = x3 / scaling_factor\n",
    "\n",
    "print(\"\\nZ-Score:\\n\", z_score.head())\n",
    "print(\"\\nMin-Max:\\n\", min_max.head())\n",
    "print(\"\\nDecimal Scaling:\\n\", decimal_scaled.head())\n",
    "\n"
   ]
  },
  {
   "cell_type": "code",
   "execution_count": 38,
   "id": "8eb00a70-12e8-4c38-bfff-9be03f7d6fa0",
   "metadata": {},
   "outputs": [
    {
     "name": "stdout",
     "output_type": "stream",
     "text": [
      "Index(['No', 'X1 transaction date', 'X2 house age',\n",
      "       'X3 distance to MRT station', 'X4 number of convenience stores',\n",
      "       'X5 latitude', 'X6 longitude', 'Y house price of unit area'],\n",
      "      dtype='object')\n"
     ]
    }
   ],
   "source": [
    "print(df.columns)\n"
   ]
  },
  {
   "cell_type": "code",
   "execution_count": 9,
   "id": "aba0ee64-abd3-444e-b3e7-73dfa17309aa",
   "metadata": {},
   "outputs": [
    {
     "data": {
      "image/png": "[encoded data removed]",
      "text/plain": [
       "<Figure size 800x600 with 1 Axes>"
      ]
     },
     "metadata": {},
     "output_type": "display_data"
    },
    {
     "data": {
      "image/png": "[encoded data removed]",
      "text/plain": [
       "<Figure size 800x600 with 1 Axes>"
      ]
     },
     "metadata": {},
     "output_type": "display_data"
    },
    {
     "data": {
      "image/png": "[encoded data removed]",
      "text/plain": [
       "<Figure size 800x600 with 1 Axes>"
      ]
     },
     "metadata": {},
     "output_type": "display_data"
    },
    {
     "data": {
      "image/png": "[encoded data removed]",
      "text/plain": [
       "<Figure size 800x600 with 1 Axes>"
      ]
     },
     "metadata": {},
     "output_type": "display_data"
    }
   ],
   "source": [
    "import seaborn as sns\n",
    "import matplotlib.pyplot as plt\n",
    "\n",
    "sns.set(style=\"whitegrid\")\n",
    "\n",
    "# (a) Histogram\n",
    "plt.figure(figsize=(8,6))\n",
    "sns.histplot(df[\"Y house price of unit area\"], kde=True, color=\"skyblue\")\n",
    "plt.title(\"Histogram of House Price per Unit Area\")\n",
    "plt.xlabel(\"Price per Unit Area\")\n",
    "plt.ylabel(\"Frequency\")\n",
    "plt.show()\n",
    "\n",
    "# (b) Boxplot\n",
    "plt.figure(figsize=(8,6))\n",
    "sns.boxplot(y=df[\"Y house price of unit area\"], color=\"lightcoral\")\n",
    "plt.title(\"Boxplot of House Price per Unit Area\")\n",
    "plt.ylabel(\"Price per Unit Area\")\n",
    "plt.show()\n",
    "\n",
    "# (c) Scatter: Price vs Age\n",
    "plt.figure(figsize=(8,6))\n",
    "sns.scatterplot(x=df[\"X2 house age\"], y=df[\"Y house price of unit area\"], color=\"green\", alpha=0.7)\n",
    "plt.title(\"House Price vs House Age\")\n",
    "plt.xlabel(\"House Age (Years)\")\n",
    "plt.ylabel(\"Price per Unit Area\")\n",
    "plt.show()\n",
    "\n",
    "# (d) Scatter: Price vs MRT distance\n",
    "plt.figure(figsize=(8,6))\n",
    "sns.scatterplot(x=df[\"X3 distance to MRT station\"], y=df[\"Y house price of unit area\"], color=\"orange\", alpha=0.7)\n",
    "plt.title(\"House Price vs Distance to MRT Station\")\n",
    "plt.xlabel(\"Distance to MRT Station (meters)\")\n",
    "plt.ylabel(\"Price per Unit Area\")\n",
    "plt.show()\n"
   ]
  },
  {
   "cell_type": "code",
   "execution_count": 44,
   "id": "d2c559c6-94d3-4bef-b40b-1e573cd23f14",
   "metadata": {},
   "outputs": [
    {
     "name": "stdout",
     "output_type": "stream",
     "text": [
      "Parameters (W) from Normal Equation:\n",
      " [[-1.11724949e+02]\n",
      " [-3.83450246e-03]\n",
      " [ 1.89186792e-02]\n",
      " [-5.86403091e-02]\n",
      " [ 8.70361301e-01]\n",
      " [ 1.04479012e+00]]\n"
     ]
    }
   ],
   "source": [
    "X = df[[\"X2 house age\", \"X3 distance to MRT station\", \"X4 number of convenience stores\", \n",
    "        \"X5 latitude\", \"X6 longitude\"]]\n",
    "X = np.c_[np.ones((X.shape[0], 1)), X]  # add 1s column at start\n",
    "\n",
    "Y = df[\"Y house price of unit area\"].values.reshape(-1, 1)\n",
    "\n",
    "\n",
    "W_normal = np.linalg.inv(X.T @ X) @ X.T @ Y\n",
    "print(\"Parameters (W) from Normal Equation:\\n\", W_normal)\n"
   ]
  },
  {
   "cell_type": "code",
   "execution_count": 46,
   "id": "caf13d53-7d3b-4133-90d1-f66264f447aa",
   "metadata": {},
   "outputs": [
    {
     "name": "stdout",
     "output_type": "stream",
     "text": [
      "Manual Gradient Descent Results:\n",
      "W = [[-7.448665   10.48941573]] \n",
      "b = 37.881895323484315\n",
      "\n",
      "TensorFlow Gradient Descent Results:\n",
      "W = [[-13.487503]\n",
      " [  6.970411]]\n",
      "b = 40.531082\n"
     ]
    }
   ],
   "source": [
    "# Assuming df is already loaded\n",
    "x2 = df[\"X2 house age\"]\n",
    "x3 = df[\"X3 distance to MRT station\"]\n",
    "Y = df[\"Y house price of unit area\"].values\n",
    "\n",
    "# Normalize features (Min-Max)\n",
    "x2_norm = (x2 - x2.min()) / (x2.max() - x2.min())\n",
    "x3_norm = (x3 - x3.min()) / (x3.max() - x3.min())\n",
    "\n",
    "alpha = 0.01\n",
    "iterations = 1000\n",
    "\n",
    "# Manual Gradient Descent\n",
    "X_gd = np.vstack([x2_norm, x3_norm])\n",
    "Y_gd = Y.reshape(1, -1)\n",
    "m_gd = Y_gd.shape[1]\n",
    "\n",
    "W = np.zeros((1, 2))\n",
    "b = 0.0\n",
    "\n",
    "for i in range(iterations):\n",
    "    Y_hat = np.dot(W, X_gd) + b\n",
    "    E = Y_hat - Y_gd\n",
    "    dW = (1/m_gd) * np.dot(E, X_gd.T)\n",
    "    db = (1/m_gd) * np.sum(E)\n",
    "    W -= alpha * dW\n",
    "    b -= alpha * db\n",
    "\n",
    "print(\"Manual Gradient Descent Results:\\nW =\", W, \"\\nb =\", b)\n",
    "\n",
    "# TensorFlow GradientTape()\n",
    "X_tf = tf.constant(np.c_[x2_norm, x3_norm], dtype=tf.float32)\n",
    "Y_tf = tf.constant(Y.reshape(-1, 1), dtype=tf.float32)\n",
    "W_tf = tf.Variable(tf.zeros((2, 1), dtype=tf.float32))\n",
    "b_tf = tf.Variable(0.0, dtype=tf.float32)\n",
    "\n",
    "optimizer = tf.keras.optimizers.SGD(learning_rate=alpha)\n",
    "\n",
    "for epoch in range(iterations):\n",
    "    with tf.GradientTape() as tape:\n",
    "        Y_pred = tf.matmul(X_tf, W_tf) + b_tf\n",
    "        loss = tf.reduce_mean(tf.square(Y_pred - Y_tf))\n",
    "    gradients = tape.gradient(loss, [W_tf, b_tf])\n",
    "    optimizer.apply_gradients(zip(gradients, [W_tf, b_tf]))\n",
    "\n",
    "print(\"\\nTensorFlow Gradient Descent Results:\")\n",
    "print(\"W =\", W_tf.numpy())\n",
    "print(\"b =\", b_tf.numpy())\n"
   ]
  },
  {
   "cell_type": "code",
   "execution_count": null,
   "id": "3f24a375-30b6-45b6-9b42-616a9e861feb",
   "metadata": {},
   "outputs": [],
   "source": []
  }
 ],
 "metadata": {
  "kernelspec": {
   "display_name": "Python (venv)",
   "language": "python",
   "name": "venv"
  },
  "language_info": {
   "codemirror_mode": {
    "name": "ipython",
    "version": 3
   },
   "file_extension": ".py",
   "mimetype": "text/x-python",
   "name": "python",
   "nbconvert_exporter": "python",
   "pygments_lexer": "ipython3",
   "version": "3.12.3"
  }
 },
 "nbformat": 4,
 "nbformat_minor": 5
}
