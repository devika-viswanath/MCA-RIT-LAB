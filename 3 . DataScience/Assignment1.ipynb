{
 "cells": [
  {
   "cell_type": "code",
   "execution_count": 11,
   "id": "53b90382-45bc-4258-a04f-27ca4cb46beb",
   "metadata": {},
   "outputs": [
    {
     "name": "stdout",
     "output_type": "stream",
     "text": [
      "10\n",
      "hello world\n",
      "11\n",
      "8\n",
      "30\n",
      "1000\n"
     ]
    }
   ],
   "source": [
    "x=10\n",
    "print(x)\n",
    "\n",
    "print(\"hello world\")\n",
    "print(x+1)\n",
    "print(x-2)\n",
    "print(x*3)\n",
    "print(x**3)\n",
    "\n"
   ]
  },
  {
   "cell_type": "code",
   "execution_count": 6,
   "id": "cda5e318-aa4f-4430-aee6-11659a83e1d2",
   "metadata": {},
   "outputs": [
    {
     "name": "stdout",
     "output_type": "stream",
     "text": [
      "<class 'int'>\n"
     ]
    }
   ],
   "source": [
    "print(type(x))"
   ]
  },
  {
   "cell_type": "code",
   "execution_count": 9,
   "id": "932d4f16-d254-4492-9844-3d4a59818415",
   "metadata": {},
   "outputs": [
    {
     "name": "stdout",
     "output_type": "stream",
     "text": [
      "<class 'str'>\n"
     ]
    }
   ],
   "source": [
    "y=\"a\"\n",
    "print(type(y))\n"
   ]
  },
  {
   "cell_type": "code",
   "execution_count": 10,
   "id": "f57b46ce-a302-4450-a1f6-6e7a33abad8a",
   "metadata": {},
   "outputs": [
    {
     "name": "stdout",
     "output_type": "stream",
     "text": [
      "<class 'str'>\n"
     ]
    }
   ],
   "source": [
    "print(type(y))"
   ]
  },
  {
   "cell_type": "code",
   "execution_count": 12,
   "id": "cb2e0da9-08b5-4896-bd59-702d32517750",
   "metadata": {},
   "outputs": [
    {
     "name": "stdout",
     "output_type": "stream",
     "text": [
      "10 <class 'int'>\n"
     ]
    }
   ],
   "source": [
    "print(x,type(x))"
   ]
  },
  {
   "cell_type": "code",
   "execution_count": 13,
   "id": "1b467748-45c5-4e09-b8d0-5a67c0d2b7d8",
   "metadata": {},
   "outputs": [
    {
     "name": "stdout",
     "output_type": "stream",
     "text": [
      "13 type <class 'int'>\n"
     ]
    }
   ],
   "source": [
    "x=x+3\n",
    "print(x,\"type\",type(x))"
   ]
  },
  {
   "cell_type": "code",
   "execution_count": 14,
   "id": "28ecf85c-ed50-450c-86dc-454a140c443c",
   "metadata": {},
   "outputs": [
    {
     "name": "stdout",
     "output_type": "stream",
     "text": [
      "True False\n"
     ]
    }
   ],
   "source": [
    "t=True\n",
    "p=False\n",
    "print(t,p)"
   ]
  },
  {
   "cell_type": "code",
   "execution_count": 15,
   "id": "750e9f3c-3fd0-4183-bfa1-dd917afa596b",
   "metadata": {},
   "outputs": [
    {
     "name": "stdout",
     "output_type": "stream",
     "text": [
      "<class 'bool'>\n"
     ]
    }
   ],
   "source": [
    "print(type(p))"
   ]
  },
  {
   "cell_type": "code",
   "execution_count": 21,
   "id": "c552fd81-02fc-484d-8a10-d3dc3e524fab",
   "metadata": {},
   "outputs": [
    {
     "name": "stdout",
     "output_type": "stream",
     "text": [
      "False\n",
      "True\n",
      "True\n",
      "False\n",
      "True\n"
     ]
    }
   ],
   "source": [
    "print(t and p)\n",
    "print(t or p)\n",
    "print(not p)\n",
    "print(t == p)\n",
    "print( t!=p )#xor"
   ]
  },
  {
   "cell_type": "code",
   "execution_count": 22,
   "id": "a81c72b8-8ddb-4355-8996-da6cbc665173",
   "metadata": {},
   "outputs": [
    {
     "name": "stdout",
     "output_type": "stream",
     "text": [
      "my name is devika\n"
     ]
    }
   ],
   "source": [
    "print(\"my name is devika\")\n"
   ]
  },
  {
   "cell_type": "code",
   "execution_count": 3,
   "id": "7be37a2e-76a7-44e0-bb72-c677ca311a40",
   "metadata": {},
   "outputs": [
    {
     "name": "stdout",
     "output_type": "stream",
     "text": [
      "hello world\n"
     ]
    }
   ],
   "source": [
    "a=\"hello\"\n",
    "b=\"world\"\n",
    "print(a,b)"
   ]
  },
  {
   "cell_type": "code",
   "execution_count": 4,
   "id": "e0294857-a507-4782-9e67-e1ac842a2d62",
   "metadata": {},
   "outputs": [
    {
     "name": "stdout",
     "output_type": "stream",
     "text": [
      "hello world\n"
     ]
    }
   ],
   "source": [
    "c=a+ \" \" +b\n",
    "print(c)#concat"
   ]
  },
  {
   "cell_type": "code",
   "execution_count": 5,
   "id": "a626bbfd-7843-4c82-93ff-96685b242d71",
   "metadata": {},
   "outputs": [
    {
     "name": "stdout",
     "output_type": "stream",
     "text": [
      "5\n"
     ]
    }
   ],
   "source": [
    "print(len(a))"
   ]
  },
  {
   "cell_type": "code",
   "execution_count": 10,
   "id": "6f1e71a5-1ec6-469f-956b-edd4e93a7ab9",
   "metadata": {},
   "outputs": [
    {
     "name": "stdout",
     "output_type": "stream",
     "text": [
      "hello world 12 hello world\n"
     ]
    }
   ],
   "source": [
    "#format string with variables\n",
    "# age=12\n",
    "# d=\"{} {} {}\".format(a,b,age)\n",
    "# print(d) #its output is : hello world 12\n",
    "age=12\n",
    "d=\"{} {} {} {}\".format(a,b,age,c)\n",
    "print(d)"
   ]
  },
  {
   "cell_type": "code",
   "execution_count": 19,
   "id": "44ba97b3-241b-4760-95a4-fd283bd6fd77",
   "metadata": {},
   "outputs": [
    {
     "name": "stdout",
     "output_type": "stream",
     "text": [
      "Hello\n",
      "HELLO\n",
      "     hello\n",
      "  hello   \n",
      "he(ell)(ell)o\n",
      "dello\n",
      "w orld\n"
     ]
    }
   ],
   "source": [
    "#string methods\n",
    "s=\"hello\"\n",
    "print(s.capitalize())\n",
    "print(s.upper())\n",
    "print(s.rjust(10))\n",
    "print(s.center(10))\n",
    "print(s.replace('l','(ell)'))\n",
    "print(s.replace(\"h\",'d'))\n",
    "print(' world '.strip())"
   ]
  },
  {
   "cell_type": "code",
   "execution_count": 33,
   "id": "280b59d8-eeef-4e16-bb5e-1b15b86ed791",
   "metadata": {},
   "outputs": [
    {
     "name": "stdout",
     "output_type": "stream",
     "text": [
      "[1, 2, 3]\n"
     ]
    }
   ],
   "source": [
    "xs=[1,2,3]\n",
    "print(xs)"
   ]
  },
  {
   "cell_type": "code",
   "execution_count": 50,
   "id": "d1504d9d-1673-4c6d-ac60-379d05ea0742",
   "metadata": {},
   "outputs": [
    {
     "name": "stdout",
     "output_type": "stream",
     "text": [
      "2\n"
     ]
    }
   ],
   "source": [
    "print(xs[1])"
   ]
  },
  {
   "cell_type": "code",
   "execution_count": 57,
   "id": "eafa5e3f-9ab6-41e0-9ad8-9c26de39a2f4",
   "metadata": {},
   "outputs": [
    {
     "name": "stdout",
     "output_type": "stream",
     "text": [
      "(1, 2, 3)\n"
     ]
    }
   ],
   "source": [
    "t=(1,2,3)\n",
    "print(t)"
   ]
  },
  {
   "cell_type": "code",
   "execution_count": 58,
   "id": "9bcb4909-007c-47c3-a05d-9fcf9a58285f",
   "metadata": {},
   "outputs": [
    {
     "name": "stdout",
     "output_type": "stream",
     "text": [
      "1\n"
     ]
    }
   ],
   "source": [
    "print(t[0])"
   ]
  },
  {
   "cell_type": "code",
   "execution_count": 63,
   "id": "d5f9a7eb-9831-4d5d-80c7-d9d163d442f0",
   "metadata": {},
   "outputs": [
    {
     "name": "stdout",
     "output_type": "stream",
     "text": [
      "(1, 2)\n"
     ]
    }
   ],
   "source": [
    "print(t[:2])"
   ]
  },
  {
   "cell_type": "code",
   "execution_count": 64,
   "id": "9af1787e-2d0e-4018-9d2f-2ead4f8a9be6",
   "metadata": {},
   "outputs": [
    {
     "name": "stdout",
     "output_type": "stream",
     "text": [
      "(1, 2, 3, 4, 5)\n"
     ]
    }
   ],
   "source": [
    "t2=(4,5)\n",
    "print(t+t2)"
   ]
  },
  {
   "cell_type": "code",
   "execution_count": 73,
   "id": "02ab3dc7-8feb-4f5a-aa5a-9808645bf1b0",
   "metadata": {},
   "outputs": [
    {
     "name": "stdout",
     "output_type": "stream",
     "text": [
      "True\n",
      "False\n",
      "{'c', 'd', 'a', 'b', 'y'}\n",
      "{'c', 'd', 'a', 'y'}\n"
     ]
    }
   ],
   "source": [
    "s={'a','b','c','d'}\n",
    "print('a' in s)\n",
    "print('y' in s)\n",
    "s.add('y')\n",
    "print(s)\n",
    "s.remove('b')\n",
    "print(s)"
   ]
  },
  {
   "cell_type": "code",
   "execution_count": 79,
   "id": "7ddefade-d72d-46fb-a8ac-7d0d6f90d6c3",
   "metadata": {},
   "outputs": [
    {
     "name": "stdout",
     "output_type": "stream",
     "text": [
      "cute\n",
      "True\n",
      "wet\n",
      "{'cat': 'cute', 'dog': 'loyal', 'fish': 'wet'}\n"
     ]
    }
   ],
   "source": [
    "d = {'cat': 'cute', 'dog': 'furry'}\n",
    "print(d['cat'])\n",
    "print('cat' in d)\n",
    "d['fish'] = 'wet'\n",
    "print(d['fish'])\n",
    "d['dog'] = 'loyal'  \n",
    "print(d)"
   ]
  },
  {
   "cell_type": "code",
   "execution_count": 89,
   "id": "0b63ae2e-ca2d-417b-85e9-c38b7563f728",
   "metadata": {},
   "outputs": [
    {
     "name": "stdout",
     "output_type": "stream",
     "text": [
      "-1 is negative\n",
      "0 is zero\n",
      "1 is positive\n"
     ]
    }
   ],
   "source": [
    "def sign(x):\n",
    "    if x > 0:\n",
    "        return 'positive'\n",
    "    elif x < 0:\n",
    "        return 'negative'\n",
    "    else:\n",
    "        return 'zero'\n",
    "for i in [-1, 0, 1]:\n",
    "    print(i, \"is\", sign(i))"
   ]
  },
  {
   "cell_type": "code",
   "execution_count": 90,
   "id": "9efe07c7-c713-4a42-9f2d-526174869e59",
   "metadata": {},
   "outputs": [
    {
     "name": "stdout",
     "output_type": "stream",
     "text": [
      "25\n"
     ]
    }
   ],
   "source": [
    "def apply_function(func, value):\n",
    "    return func(value)\n",
    "\n",
    "def square(x):\n",
    "    return x * x\n",
    "\n",
    "print(apply_function(square, 5))\n"
   ]
  },
  {
   "cell_type": "code",
   "execution_count": 91,
   "id": "660f9c78-13a2-4a25-a8c4-29e92e588c91",
   "metadata": {},
   "outputs": [
    {
     "name": "stdout",
     "output_type": "stream",
     "text": [
      "Hello, Fred!\n",
      "HELLO, FRED!\n"
     ]
    }
   ],
   "source": [
    "class Greeter:\n",
    "    def __init__(self, name):\n",
    "        self.name = name\n",
    "\n",
    "    def greet(self, loud=False):\n",
    "        if loud:\n",
    "            print(f\"HELLO, {self.name.upper()}!\")\n",
    "        else:\n",
    "            print(f\"Hello, {self.name}!\")\n",
    "\n",
    "g = Greeter('Fred')\n",
    "g.greet()\n",
    "g.greet(loud=True)\n"
   ]
  },
  {
   "cell_type": "code",
   "execution_count": 92,
   "id": "7085bd11-913e-43ac-b837-767edca70996",
   "metadata": {},
   "outputs": [
    {
     "name": "stdout",
     "output_type": "stream",
     "text": [
      "Generic animal sound\n",
      "Whiskers says Meow!\n",
      "Bessie says Moo!\n"
     ]
    }
   ],
   "source": [
    "class Animal:\n",
    "    def __init__(self, name):\n",
    "        self.name = name\n",
    "\n",
    "    def make_sound(self):\n",
    "        return \"Generic animal sound\"\n",
    "\n",
    "class Cat(Animal):\n",
    "    def make_sound(self):\n",
    "        return f\"{self.name} says Meow!\"\n",
    "\n",
    "class Cow(Animal):\n",
    "    def make_sound(self):\n",
    "        return f\"{self.name} says Moo!\"\n",
    "\n",
    "generic_animal = Animal(\"Creature\")\n",
    "print(generic_animal.make_sound())\n",
    "my_cat = Cat(\"Whiskers\")\n",
    "print(my_cat.make_sound())\n",
    "my_cow = Cow(\"Bessie\")\n",
    "print(my_cow.make_sound())\n"
   ]
  },
  {
   "cell_type": "code",
   "execution_count": 93,
   "id": "3cc08d1c-8524-482c-91b7-16e36a2f8e13",
   "metadata": {},
   "outputs": [
    {
     "name": "stdout",
     "output_type": "stream",
     "text": [
      "Car 1: Toyota Camry\n",
      "Car 2: Honda Civic\n",
      "Class variable: 4\n",
      "\n",
      "After changing class variable:\n",
      "Make: Toyota, Model: Camry, Wheels: 3\n",
      "Make: Honda, Model: Civic, Wheels: 3\n"
     ]
    }
   ],
   "source": [
    "class Car:\n",
    "    number_of_wheels = 4  # Class variable\n",
    "\n",
    "    def __init__(self, make, model):\n",
    "        self.make = make      # Instance variable\n",
    "        self.model = model\n",
    "\n",
    "    def display_info(self):\n",
    "        print(f\"Make: {self.make}, Model: {self.model}, Wheels: {Car.number_of_wheels}\")\n",
    "\n",
    "car1 = Car(\"Toyota\", \"Camry\")\n",
    "car2 = Car(\"Honda\", \"Civic\")\n",
    "\n",
    "print(\"Car 1:\", car1.make, car1.model)\n",
    "print(\"Car 2:\", car2.make, car2.model)\n",
    "print(\"Class variable:\", Car.number_of_wheels)\n",
    "\n",
    "Car.number_of_wheels = 3\n",
    "print(\"\\nAfter changing class variable:\")\n",
    "car1.display_info()\n",
    "car2.display_info()\n"
   ]
  },
  {
   "cell_type": "code",
   "execution_count": null,
   "id": "026cef62-38ac-4ec7-8e06-3431aaa391f7",
   "metadata": {},
   "outputs": [],
   "source": []
  }
 ],
 "metadata": {
  "kernelspec": {
   "display_name": "Python 3 (ipykernel)",
   "language": "python",
   "name": "python3"
  },
  "language_info": {
   "codemirror_mode": {
    "name": "ipython",
    "version": 3
   },
   "file_extension": ".py",
   "mimetype": "text/x-python",
   "name": "python",
   "nbconvert_exporter": "python",
   "pygments_lexer": "ipython3",
   "version": "3.12.3"
  }
 },
 "nbformat": 4,
 "nbformat_minor": 5
}
